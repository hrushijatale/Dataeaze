{
 "cells": [
  {
   "cell_type": "markdown",
   "metadata": {},
   "source": [
    "# Spark Coding Assignment"
   ]
  },
  {
   "cell_type": "code",
   "execution_count": 1,
   "metadata": {},
   "outputs": [],
   "source": [
    "import pyspark"
   ]
  },
  {
   "cell_type": "code",
   "execution_count": 2,
   "metadata": {},
   "outputs": [],
   "source": [
    "from pyspark.sql import SparkSession"
   ]
  },
  {
   "cell_type": "code",
   "execution_count": 3,
   "metadata": {},
   "outputs": [],
   "source": [
    "spark = SparkSession.builder\\\n",
    "    .appName(\"question1\")\\\n",
    "    .master(\"local\")\\\n",
    "    .getOrCreate()"
   ]
  },
  {
   "cell_type": "code",
   "execution_count": 4,
   "metadata": {},
   "outputs": [],
   "source": [
    "df=spark.read.csv(\"startup.csv\",inferSchema=True,header=True)"
   ]
  },
  {
   "cell_type": "code",
   "execution_count": 5,
   "metadata": {},
   "outputs": [],
   "source": [
    "df1=spark.read.parquet(\"consumerInternet.parquet\",inferSchema=True,header=True)"
   ]
  },
  {
   "cell_type": "markdown",
   "metadata": {},
   "source": [
    "# Combine these 2 files in Spark into a single entity "
   ]
  },
  {
   "cell_type": "code",
   "execution_count": 6,
   "metadata": {},
   "outputs": [],
   "source": [
    "df3=df.unionAll(df1)"
   ]
  },
  {
   "cell_type": "code",
   "execution_count": 7,
   "metadata": {},
   "outputs": [
    {
     "name": "stdout",
     "output_type": "stream",
     "text": [
      "root\n",
      " |-- Sr_No: string (nullable = true)\n",
      " |-- Date: string (nullable = true)\n",
      " |-- Startup_Name: string (nullable = true)\n",
      " |-- Industry_Vertical: string (nullable = true)\n",
      " |-- SubVertical: string (nullable = true)\n",
      " |-- City: string (nullable = true)\n",
      " |-- Investors_Name: string (nullable = true)\n",
      " |-- InvestmentnType: string (nullable = true)\n",
      " |-- Amount_in_USD: string (nullable = true)\n",
      " |-- Remarks: string (nullable = true)\n",
      "\n"
     ]
    }
   ],
   "source": [
    "df3.printSchema()"
   ]
  },
  {
   "cell_type": "markdown",
   "metadata": {},
   "source": [
    "# How many startups are there in Pune City?\n"
   ]
  },
  {
   "cell_type": "code",
   "execution_count": 8,
   "metadata": {},
   "outputs": [
    {
     "name": "stdout",
     "output_type": "stream",
     "text": [
      "+------------+\n",
      "|Pune_Startup|\n",
      "+------------+\n",
      "|         105|\n",
      "+------------+\n",
      "\n"
     ]
    }
   ],
   "source": [
    "df3.createOrReplaceTempView(\"df3\")\n",
    "sqlWay1 = spark.sql(\"\"\"\n",
    "SELECT count(Startup_Name) as Pune_Startup\n",
    "FROM df3\n",
    "WHERE City='Pune'\n",
    "\"\"\")\n",
    "sqlWay1.show()"
   ]
  },
  {
   "cell_type": "markdown",
   "metadata": {},
   "source": [
    "# How many startups in Pune got their Seed/ Angel Funding?"
   ]
  },
  {
   "cell_type": "code",
   "execution_count": 9,
   "metadata": {},
   "outputs": [
    {
     "name": "stdout",
     "output_type": "stream",
     "text": [
      "+------------+\n",
      "|Pune_Startup|\n",
      "+------------+\n",
      "|           6|\n",
      "+------------+\n",
      "\n"
     ]
    }
   ],
   "source": [
    "sqlway2=spark.sql(\"\"\"\n",
    "SELECT COUNT(Startup_Name) as Pune_Startup\n",
    "FROM df3 \n",
    "WHERE InvestmentnType like 'Seed%/%' \n",
    "AND City = 'Pune'\"\"\")\n",
    "sqlway2.show()"
   ]
  },
  {
   "cell_type": "markdown",
   "metadata": {},
   "source": [
    "# What is the total amount raised by startups in Pune City? Hint - use regex_replace to get rid of null\n"
   ]
  },
  {
   "cell_type": "code",
   "execution_count": 10,
   "metadata": {},
   "outputs": [
    {
     "name": "stdout",
     "output_type": "stream",
     "text": [
      "+------+\n",
      "|Amount|\n",
      "+------+\n",
      "|   0.0|\n",
      "+------+\n",
      "\n"
     ]
    }
   ],
   "source": [
    "sqlway3=spark.sql(\"\"\"\n",
    "SELECT SUM(regexp_replace(Amount_in_USD, 'N/A', '00')) AS Amount \n",
    "FROM df3\n",
    "WHERE City = 'Pune'\"\"\")\n",
    "sqlway3.show()"
   ]
  },
  {
   "cell_type": "markdown",
   "metadata": {},
   "source": [
    "# What are the top 5 Industry_Vertical which has the highest number of startups in India?\n"
   ]
  },
  {
   "cell_type": "code",
   "execution_count": 11,
   "metadata": {},
   "outputs": [
    {
     "name": "stdout",
     "output_type": "stream",
     "text": [
      "+-----------------+-------------------+\n",
      "|Industry_Vertical|count(Startup_Name)|\n",
      "+-----------------+-------------------+\n",
      "|Consumer Internet|                941|\n",
      "|       Technology|                478|\n",
      "|        eCommerce|                186|\n",
      "|              nan|                171|\n",
      "|       Healthcare|                 70|\n",
      "+-----------------+-------------------+\n",
      "\n"
     ]
    }
   ],
   "source": [
    "sqlway4=spark.sql(\"\"\"\n",
    "SELECT Industry_Vertical, COUNT(Startup_Name) \n",
    "FROM df3 \n",
    "GROUP BY Industry_Vertical \n",
    "ORDER BY COUNT(Startup_Name) DESC LIMIT 5\"\"\")\n",
    "sqlway4.show()"
   ]
  },
  {
   "cell_type": "markdown",
   "metadata": {},
   "source": [
    "# Find the top Investor(by amount) of each year.\n"
   ]
  },
  {
   "cell_type": "code",
   "execution_count": 15,
   "metadata": {},
   "outputs": [
    {
     "name": "stdout",
     "output_type": "stream",
     "text": [
      "+--------------------+----+--------------+\n",
      "|      Investors_Name|Year| Amount_in_USD|\n",
      "+--------------------+----+--------------+\n",
      "|Vijay Shekhar Sharma|null|1,00,00,00,000|\n",
      "|     Eduardo Saverin|null|   1,00,00,000|\n",
      "|HDFC Life, HDFC A...|null|   1,00,00,000|\n",
      "|Accel Partners, T...|null|   1,00,00,000|\n",
      "|Sabre Partners, P...|null|   1,00,00,000|\n",
      "+--------------------+----+--------------+\n",
      "\n"
     ]
    }
   ],
   "source": [
    "sqlway5=spark.sql(\"\"\"\n",
    "SELECT Investors_Name,\n",
    "(SELECT DISTINCT(Year(\"Date\")) from DF3) as Year, \n",
    "Amount_in_USD\n",
    "FROM df3\n",
    "ORDER BY Amount_in_USD LIMIT 5\"\"\")\n",
    "sqlway5.show()"
   ]
  },
  {
   "cell_type": "code",
   "execution_count": null,
   "metadata": {},
   "outputs": [],
   "source": []
  }
 ],
 "metadata": {
  "kernelspec": {
   "display_name": "Python 3",
   "language": "python",
   "name": "python3"
  },
  "language_info": {
   "codemirror_mode": {
    "name": "ipython",
    "version": 3
   },
   "file_extension": ".py",
   "mimetype": "text/x-python",
   "name": "python",
   "nbconvert_exporter": "python",
   "pygments_lexer": "ipython3",
   "version": "3.8.3"
  }
 },
 "nbformat": 4,
 "nbformat_minor": 4
}
